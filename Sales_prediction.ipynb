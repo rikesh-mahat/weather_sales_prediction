{
 "cells": [
  {
   "cell_type": "markdown",
   "id": "fd6d776e",
   "metadata": {},
   "source": []
  },
  {
   "cell_type": "markdown",
   "id": "6c9e9b5c",
   "metadata": {},
   "source": [
    "# Problem Statement\n",
    "In this problem of linear regression I am going to predict the sales bases on money spent advertising on different platforms such as radio \n",
    "television (TV) and newspaper"
   ]
  },
  {
   "cell_type": "markdown",
   "id": "cb15b379",
   "metadata": {},
   "source": [
    "# Data\n",
    "I am using the data given in ISLR and analysing the relationship between 'money spent on advertising' and 'sales' using a simple linear regression model.\n",
    "I will be building a regression model to predict the sales using an appropritae predictor variable"
   ]
  },
  {
   "cell_type": "markdown",
   "id": "bf0c276d",
   "metadata": {},
   "source": [
    "# Reading and Understanding Data\n"
   ]
  },
  {
   "cell_type": "code",
   "execution_count": 1,
   "id": "090a67af",
   "metadata": {},
   "outputs": [],
   "source": [
    "# Supress Warnings\n",
    "\n",
    "import warnings\n",
    "warnings.filterwarnings('ignore')\n",
    "\n",
    "# Import the numpy and pandas package\n",
    "\n",
    "import numpy as np\n",
    "import pandas as pd\n",
    "\n",
    "# Data Visualisation\n",
    "import matplotlib.pyplot as plt \n",
    "import seaborn as sns"
   ]
  },
  {
   "cell_type": "code",
   "execution_count": 2,
   "id": "3c3bf5ea",
   "metadata": {},
   "outputs": [
    {
     "data": {
      "text/html": [
       "<div>\n",
       "<style scoped>\n",
       "    .dataframe tbody tr th:only-of-type {\n",
       "        vertical-align: middle;\n",
       "    }\n",
       "\n",
       "    .dataframe tbody tr th {\n",
       "        vertical-align: top;\n",
       "    }\n",
       "\n",
       "    .dataframe thead th {\n",
       "        text-align: right;\n",
       "    }\n",
       "</style>\n",
       "<table border=\"1\" class=\"dataframe\">\n",
       "  <thead>\n",
       "    <tr style=\"text-align: right;\">\n",
       "      <th></th>\n",
       "      <th>TV</th>\n",
       "      <th>Radio</th>\n",
       "      <th>Newspaper</th>\n",
       "      <th>Sales</th>\n",
       "    </tr>\n",
       "  </thead>\n",
       "  <tbody>\n",
       "    <tr>\n",
       "      <th>0</th>\n",
       "      <td>230.1</td>\n",
       "      <td>37.8</td>\n",
       "      <td>69.2</td>\n",
       "      <td>22.1</td>\n",
       "    </tr>\n",
       "    <tr>\n",
       "      <th>1</th>\n",
       "      <td>44.5</td>\n",
       "      <td>39.3</td>\n",
       "      <td>45.1</td>\n",
       "      <td>10.4</td>\n",
       "    </tr>\n",
       "    <tr>\n",
       "      <th>2</th>\n",
       "      <td>17.2</td>\n",
       "      <td>45.9</td>\n",
       "      <td>69.3</td>\n",
       "      <td>12.0</td>\n",
       "    </tr>\n",
       "    <tr>\n",
       "      <th>3</th>\n",
       "      <td>151.5</td>\n",
       "      <td>41.3</td>\n",
       "      <td>58.5</td>\n",
       "      <td>16.5</td>\n",
       "    </tr>\n",
       "    <tr>\n",
       "      <th>4</th>\n",
       "      <td>180.8</td>\n",
       "      <td>10.8</td>\n",
       "      <td>58.4</td>\n",
       "      <td>17.9</td>\n",
       "    </tr>\n",
       "  </tbody>\n",
       "</table>\n",
       "</div>"
      ],
      "text/plain": [
       "      TV  Radio  Newspaper  Sales\n",
       "0  230.1   37.8       69.2   22.1\n",
       "1   44.5   39.3       45.1   10.4\n",
       "2   17.2   45.9       69.3   12.0\n",
       "3  151.5   41.3       58.5   16.5\n",
       "4  180.8   10.8       58.4   17.9"
      ]
     },
     "execution_count": 2,
     "metadata": {},
     "output_type": "execute_result"
    }
   ],
   "source": [
    "dataset = pd.read_csv(r\"C:/Users/ACER/OneDrive/Desktop/advertising.csv\")\n",
    "dataset.head()"
   ]
  },
  {
   "cell_type": "markdown",
   "id": "3a2095ae",
   "metadata": {},
   "source": [
    "Here we can see the first 5 rows of the our '**advertising.csv**' file. There are altogether 4 columns, Independent variables  '**TV**', '**Radio**', '**Newspaper**' and our dependent variable '**Sales**'"
   ]
  },
  {
   "cell_type": "code",
   "execution_count": 3,
   "id": "b7290dfb",
   "metadata": {},
   "outputs": [
    {
     "data": {
      "text/plain": [
       "(610, 4)"
      ]
     },
     "execution_count": 3,
     "metadata": {},
     "output_type": "execute_result"
    }
   ],
   "source": [
    "dataset.shape"
   ]
  },
  {
   "cell_type": "markdown",
   "id": "de728268",
   "metadata": {},
   "source": [
    "We can see that there are altogether **610 rows** (including the titles) and **4 columns** in out dataset"
   ]
  },
  {
   "cell_type": "code",
   "execution_count": 4,
   "id": "0fda96ef",
   "metadata": {},
   "outputs": [
    {
     "name": "stdout",
     "output_type": "stream",
     "text": [
      "<class 'pandas.core.frame.DataFrame'>\n",
      "RangeIndex: 610 entries, 0 to 609\n",
      "Data columns (total 4 columns):\n",
      " #   Column     Non-Null Count  Dtype  \n",
      "---  ------     --------------  -----  \n",
      " 0   TV         610 non-null    float64\n",
      " 1   Radio      610 non-null    float64\n",
      " 2   Newspaper  610 non-null    float64\n",
      " 3   Sales      610 non-null    float64\n",
      "dtypes: float64(4)\n",
      "memory usage: 19.2 KB\n"
     ]
    }
   ],
   "source": [
    "dataset.info()"
   ]
  },
  {
   "cell_type": "markdown",
   "id": "3629463d",
   "metadata": {},
   "source": [
    "From the information above we can clearly see that there are **no null-objects (610 rows have values in them)** in all four columns and the datatypes in all the four columns is **float**.Depending on other datesets it can be object or int as well."
   ]
  },
  {
   "cell_type": "code",
   "execution_count": 5,
   "id": "e5663617",
   "metadata": {},
   "outputs": [
    {
     "data": {
      "text/html": [
       "<div>\n",
       "<style scoped>\n",
       "    .dataframe tbody tr th:only-of-type {\n",
       "        vertical-align: middle;\n",
       "    }\n",
       "\n",
       "    .dataframe tbody tr th {\n",
       "        vertical-align: top;\n",
       "    }\n",
       "\n",
       "    .dataframe thead th {\n",
       "        text-align: right;\n",
       "    }\n",
       "</style>\n",
       "<table border=\"1\" class=\"dataframe\">\n",
       "  <thead>\n",
       "    <tr style=\"text-align: right;\">\n",
       "      <th></th>\n",
       "      <th>TV</th>\n",
       "      <th>Radio</th>\n",
       "      <th>Newspaper</th>\n",
       "      <th>Sales</th>\n",
       "    </tr>\n",
       "  </thead>\n",
       "  <tbody>\n",
       "    <tr>\n",
       "      <th>count</th>\n",
       "      <td>610.000000</td>\n",
       "      <td>610.000000</td>\n",
       "      <td>610.000000</td>\n",
       "      <td>610.000000</td>\n",
       "    </tr>\n",
       "    <tr>\n",
       "      <th>mean</th>\n",
       "      <td>157.622787</td>\n",
       "      <td>26.451639</td>\n",
       "      <td>30.241967</td>\n",
       "      <td>15.916393</td>\n",
       "    </tr>\n",
       "    <tr>\n",
       "      <th>std</th>\n",
       "      <td>83.281028</td>\n",
       "      <td>14.109278</td>\n",
       "      <td>18.830956</td>\n",
       "      <td>5.878454</td>\n",
       "    </tr>\n",
       "    <tr>\n",
       "      <th>min</th>\n",
       "      <td>0.700000</td>\n",
       "      <td>0.000000</td>\n",
       "      <td>0.300000</td>\n",
       "      <td>1.600000</td>\n",
       "    </tr>\n",
       "    <tr>\n",
       "      <th>25%</th>\n",
       "      <td>87.475000</td>\n",
       "      <td>14.300000</td>\n",
       "      <td>13.100000</td>\n",
       "      <td>11.350000</td>\n",
       "    </tr>\n",
       "    <tr>\n",
       "      <th>50%</th>\n",
       "      <td>163.800000</td>\n",
       "      <td>27.500000</td>\n",
       "      <td>29.000000</td>\n",
       "      <td>16.100000</td>\n",
       "    </tr>\n",
       "    <tr>\n",
       "      <th>75%</th>\n",
       "      <td>226.475000</td>\n",
       "      <td>38.300000</td>\n",
       "      <td>45.200000</td>\n",
       "      <td>20.575000</td>\n",
       "    </tr>\n",
       "    <tr>\n",
       "      <th>max</th>\n",
       "      <td>299.700000</td>\n",
       "      <td>50.000000</td>\n",
       "      <td>114.000000</td>\n",
       "      <td>28.200000</td>\n",
       "    </tr>\n",
       "  </tbody>\n",
       "</table>\n",
       "</div>"
      ],
      "text/plain": [
       "               TV       Radio   Newspaper       Sales\n",
       "count  610.000000  610.000000  610.000000  610.000000\n",
       "mean   157.622787   26.451639   30.241967   15.916393\n",
       "std     83.281028   14.109278   18.830956    5.878454\n",
       "min      0.700000    0.000000    0.300000    1.600000\n",
       "25%     87.475000   14.300000   13.100000   11.350000\n",
       "50%    163.800000   27.500000   29.000000   16.100000\n",
       "75%    226.475000   38.300000   45.200000   20.575000\n",
       "max    299.700000   50.000000  114.000000   28.200000"
      ]
     },
     "execution_count": 5,
     "metadata": {},
     "output_type": "execute_result"
    }
   ],
   "source": [
    "dataset.describe()"
   ]
  },
  {
   "cell_type": "markdown",
   "id": "71fb5806",
   "metadata": {},
   "source": [
    "We can see the five number summary of each column in our dataset.\n",
    "We can further see the five number more clearly using a boxplot which has been constructed below.\n",
    "\n"
   ]
  },
  {
   "cell_type": "code",
   "execution_count": 6,
   "id": "9ffb2e65",
   "metadata": {},
   "outputs": [
    {
     "data": {
      "image/png": "[encoded data removed]",
      "text/plain": [
       "<Figure size 360x360 with 3 Axes>"
      ]
     },
     "metadata": {
      "needs_background": "light"
     },
     "output_type": "display_data"
    }
   ],
   "source": [
    "# Outlier Analysis\n",
    "fig, axs = plt.subplots(3, figsize = (5,5))\n",
    "plt1 = sns.boxplot(dataset['TV'], ax = axs[0])\n",
    "plt2 = sns.boxplot(dataset['Newspaper'], ax = axs[1])\n",
    "plt3 = sns.boxplot(dataset['Radio'], ax = axs[2])\n",
    "plt.tight_layout()"
   ]
  },
  {
   "cell_type": "markdown",
   "id": "251bca8f",
   "metadata": {},
   "source": [
    "I have created a box plot of our indepedent variables here we can see there are no any kind of big outliers in **TV and Radioo** data except in newspaper where there are  **higher outliers**.\n",
    "\n",
    "**TV**\n",
    "minimum = 0 Quartile 1 = 90 (approx) Median = 160 (approx)  Quartile 3 = 225(approx) Maximum=300\n",
    "\n",
    "**Newspaper**\n",
    "minimum = 0 Quartile 1 = 15 (approx) Median = 30 (approx)  Quartile 3 = 45(approx) Maximum  = 90\n",
    "\n",
    "**Radio**\n",
    "minimum = 0 Quartile 15 = 90 (approx) Median = 28 (approx)  Quartile 3 = 38(approx) Maximum = 50"
   ]
  },
  {
   "cell_type": "code",
   "execution_count": 7,
   "id": "bf332954",
   "metadata": {},
   "outputs": [
    {
     "data": {
      "image/png": "[encoded data removed]",
      "text/plain": [
       "<Figure size 432x288 with 1 Axes>"
      ]
     },
     "metadata": {
      "needs_background": "light"
     },
     "output_type": "display_data"
    }
   ],
   "source": [
    "sns.boxplot(dataset['Sales'])\n",
    "plt.show()"
   ]
  },
  {
   "cell_type": "markdown",
   "id": "6c0dc792",
   "metadata": {},
   "source": [
    "As we can see that there are no outliers in our sales column.\n",
    "\n",
    "**Sales**\n",
    "minimum = 1.5 Quartile 1 = 11.5 (approx)  Median = 13 (approx) Quartile 3 = 21.8 (approx) Max = 28.5 (approx)"
   ]
  },
  {
   "cell_type": "markdown",
   "id": "50a35ecb",
   "metadata": {},
   "source": [
    "# Quality of data"
   ]
  },
  {
   "cell_type": "code",
   "execution_count": 8,
   "id": "bb613adf",
   "metadata": {},
   "outputs": [
    {
     "data": {
      "text/plain": [
       "array([230.1,  44.5,  17.2, 151.5, 180.8,   8.7,  57.5, 120.2,   8.6,\n",
       "       199.8,  66.1, 214.7,  23.8,  97.5, 204.1, 195.4,  67.8, 281.4,\n",
       "        69.2, 147.3, 218.4, 237.4,  13.2, 228.3,  62.3, 262.9, 142.9,\n",
       "       240.1, 248.8,  70.6, 292.9, 112.9,  97.2, 265.6,  95.7, 290.7,\n",
       "       266.9,  74.7,  43.1, 228. , 202.5, 177. , 293.6, 206.9,  25.1,\n",
       "       175.1,  89.7, 239.9, 227.2,  66.9, 100.4, 216.4, 182.6, 262.7,\n",
       "       198.9,   7.3, 136.2, 210.8, 210.7,  53.5, 261.3, 239.3, 102.7,\n",
       "       131.1,  69. ,  31.5, 139.3, 216.8, 199.1, 109.8,  26.8, 129.4,\n",
       "       213.4,  16.9,  27.5, 120.5,   5.4, 116. ,  76.4, 239.8,  75.3,\n",
       "        68.4, 213.5, 193.2,  76.3, 110.7,  88.3, 134.3,  28.6, 217.7,\n",
       "       250.9, 107.4, 163.3, 197.6, 184.9, 289.7, 135.2, 222.4, 296.4,\n",
       "       280.2, 187.9, 238.2, 137.9,  25. ,  90.4,  13.1, 255.4, 225.8,\n",
       "       241.7, 175.7, 209.6,  78.2,  75.1, 139.2, 125.7,  19.4, 141.3,\n",
       "        18.8, 224. , 123.1, 229.5,  87.2,   7.8,  80.2, 220.3,  59.6,\n",
       "         0.7, 265.2,   8.4, 219.8,  36.9,  48.3,  25.6, 273.7,  43. ,\n",
       "        73.4, 193.7, 220.5, 104.6,  96.2, 140.3, 243.2,  38. ,  44.7,\n",
       "       280.7, 121. , 171.3, 187.8,   4.1,  93.9, 149.8,  11.7, 131.7,\n",
       "       172.5,  85.7, 188.4, 163.5, 117.2, 234.5,  17.9, 206.8, 215.4,\n",
       "       284.3,  50. , 164.5,  19.6, 168.4, 276.9, 248.4, 170.2, 276.7,\n",
       "       165.6, 156.6, 218.5,  56.2, 287.6, 253.8, 205. , 139.5, 191.1,\n",
       "       286. ,  18.7,  39.5,  75.5, 166.8, 149.7,  38.2,  94.2, 283.6,\n",
       "       232.1, 153.2, 241.2,  92.8, 173.1,  84.9, 285. , 243. ,  29.7,\n",
       "        53.9, 241.9,  21.3, 249. ,  78.9, 194.5,  28.8, 234.8, 103.5,\n",
       "       165.7,  47.9, 235.3, 247. , 206.7,  64.1,  84.4, 266.5, 177.4,\n",
       "       281.5,  63. ,  89.6, 128.3, 181.5,  27. , 130.5,  42.3, 250.7,\n",
       "       116.3, 180.7, 265.4, 127.3, 243.3, 159.7, 164.1,  16.5, 251.2,\n",
       "       118.8, 133.7, 219.6, 293. , 281.8,  16.3, 140.7,  70.2, 110.3,\n",
       "       145. , 297. ,  66.4, 190.8, 156. , 180.9, 270.6,  35.1, 274. ,\n",
       "       198.3, 196.9,  65.2, 178.5, 248.5,  60.6,  83.9,  33.6, 260.6,\n",
       "       210.9,  64.7, 110.1, 156.1, 274.3, 173. , 161.7, 217.6,  16.2,\n",
       "       100. , 230.9, 104.3, 182.8, 267.5, 157.4, 244.2, 139.6, 187.5,\n",
       "       149. , 114. , 242.4, 222.1, 248.3, 270.1, 239.4,  90.3,  97.9,\n",
       "       160.9, 174. , 257. , 202.8,  88.5, 270.2,  74.5,  99. , 297.4,\n",
       "       214.1, 238.7,  73.5,  23.9, 260.5, 212.5, 187.2, 127.9, 204.7,\n",
       "       240.8, 262.8,  99.2, 134.4, 180.4, 191.4, 299.2,  49.4, 193.6,\n",
       "       272. , 216. , 281.3, 275.2,  94.6, 277. ,  49. , 142.7,  81. ,\n",
       "       121.5, 281.7, 230.5, 147.6, 249.6, 120.9, 102.3, 276.2, 259.7,\n",
       "       245. , 136.1, 126. , 176.9, 247.2,  83.7, 210.4, 280.8, 190.6,\n",
       "       238.1, 147.4, 198.8, 195.7, 223.6,  56.8, 115.4, 217.3, 291. ,\n",
       "        34.5,  21.7, 177.5,  21.9, 264.5, 154.2,  68.8,  55.9, 179.8,\n",
       "        18.6, 278.5, 153.4,  55.2, 295.6, 128.6,  44.4, 244.3,  29.3,\n",
       "       250.2,  23.6, 286.1,  48.9, 145.7, 178.4,  78.4, 108.8,  48.5,\n",
       "       166.4, 196.6, 226.7,  89.2, 271.6, 127.1, 223.2,  82.3, 123.9,\n",
       "       195.6, 151.8, 235.4, 281. ,  34. , 129.6,  50.2, 114.4, 109.7,\n",
       "       245.6, 116.5, 268.9, 123.6, 284.7, 238. ,  59.9, 182.4, 133.5,\n",
       "       171.2, 248.2, 180.1, 203.9,  17.5,  29. , 176.2, 152. ,  61.9,\n",
       "       136.8,  36.6, 292.2, 217. , 119.2, 155.1,  81.6, 239.5, 257.8,\n",
       "        53.3, 272.3, 161.4, 293.1, 288. ,  20.7, 276.8,  27.7,  78. ,\n",
       "       258.1,  66.6, 159.5, 258.3,  69.5, 252.9, 143.9, 299.7, 297.6,\n",
       "       217.1, 261.7, 294.4, 203.3, 166.1,  42.4, 103.9, 266.6, 130.4,\n",
       "       227.6, 220.8, 107. , 226.9, 129. , 282.6, 281.2, 119.9, 202.1,\n",
       "       213.2, 237.5, 216.2, 122.5, 223.1, 220. ,  15.5, 148.3, 190.5,\n",
       "        20.5,  71.8, 103.6, 187.6, 121.6, 278.9,  81.3, 180.2, 214.8,\n",
       "        29.6,  50.8, 183.6, 112. ,  86.4, 265.9, 199. , 107.9, 236.9,\n",
       "        80.7, 185.6, 208.3, 196.3, 197.2,  21.1, 241.8,  95.6, 133.2,\n",
       "       164.2, 188.5, 152.9, 293.3, 291.4,  79.1, 144.7, 114.2, 209. ,\n",
       "        35.8, 222.2, 282.4,  95.3, 247.5, 221.2, 169.2, 119.8, 215. ,\n",
       "       190.9, 108.7,  24.3,  73.3,  99.5, 204.3, 202.6,  85.8,  96.9,\n",
       "       134.2, 163.2, 289.8,  86.3, 297.3, 286.7, 133.4, 140.6, 135.3,\n",
       "        37.5, 120.1,  47.1, 139.7, 267.6, 212.2, 118.9, 243.7])"
      ]
     },
     "execution_count": 8,
     "metadata": {},
     "output_type": "execute_result"
    }
   ],
   "source": [
    "dataset['TV'].unique()"
   ]
  },
  {
   "cell_type": "markdown",
   "id": "a4042726",
   "metadata": {},
   "source": [
    "we can see that there are no any kind of garbage in our data and every value is unique, all the values are in float data type. \n",
    "we don't need to do unique in other columns as all datatype are not null and float type."
   ]
  },
  {
   "cell_type": "markdown",
   "id": "c7bd02ec",
   "metadata": {},
   "source": [
    "# Data Analysis"
   ]
  },
  {
   "cell_type": "code",
   "execution_count": 9,
   "id": "2649fd35",
   "metadata": {},
   "outputs": [
    {
     "data": {
      "image/png": "[encoded data removed]",
      "text/plain": [
       "<Figure size 432x288 with 1 Axes>"
      ]
     },
     "metadata": {
      "needs_background": "light"
     },
     "output_type": "display_data"
    }
   ],
   "source": [
    "plt.scatter(dataset['TV'],dataset['Sales'])\n",
    "plt.title('Scatter plot of Television (TV) with Sales')\n",
    "plt.xlabel('TV')\n",
    "plt.ylabel('Sales')\n",
    "plt.show()"
   ]
  },
  {
   "cell_type": "markdown",
   "id": "4cd5d3e5",
   "metadata": {},
   "source": [
    "From the scatter plot we can see the following\n",
    "\n",
    "**For TV**\n",
    "\n",
    "**sales** is aligned in linearly for **TV** so the data seem to be positively co-related and aligned perfectly. Strength of the   data is strong as they are very close to each other nearly a straight line."
   ]
  },
  {
   "cell_type": "code",
   "execution_count": 10,
   "id": "ea71b7bc",
   "metadata": {},
   "outputs": [
    {
     "data": {
      "image/png": "[encoded data removed]",
      "text/plain": [
       "<Figure size 432x288 with 1 Axes>"
      ]
     },
     "metadata": {
      "needs_background": "light"
     },
     "output_type": "display_data"
    }
   ],
   "source": [
    "plt.scatter(dataset['Newspaper'],dataset['Sales'])\n",
    "plt.title('Scatter plot of Newspaper with Sales')\n",
    "plt.xlabel('Newspaper')\n",
    "plt.ylabel('Sales')\n",
    "plt.show()"
   ]
  },
  {
   "cell_type": "markdown",
   "id": "f8b88dc5",
   "metadata": {},
   "source": [
    "From the scatter plot above we can see:\n",
    "\n",
    "**For Newspaper**\n",
    "\n",
    "**sales** seems to be grouped in left side. There are outliers we can see 2 or 3 dots far from other dots. Strength of the data is moderate as the aren't grouped in a line. There is positive corelation between **sales** and **Newspaper**"
   ]
  },
  {
   "cell_type": "code",
   "execution_count": 11,
   "id": "ea36d260",
   "metadata": {},
   "outputs": [
    {
     "data": {
      "image/png": "[encoded data removed]",
      "text/plain": [
       "<Figure size 432x288 with 1 Axes>"
      ]
     },
     "metadata": {
      "needs_background": "light"
     },
     "output_type": "display_data"
    }
   ],
   "source": [
    "plt.scatter(dataset['Radio'],dataset['Sales'])\n",
    "plt.title('Scatter plot of Radio with Sales')\n",
    "plt.xlabel('Radio')\n",
    "plt.ylabel('Sales')\n",
    "plt.show()"
   ]
  },
  {
   "cell_type": "markdown",
   "id": "9bfb82e3",
   "metadata": {},
   "source": [
    "From the Scatter plot above we can seee:\n",
    "\n",
    "**For Radio**\n",
    "\n",
    "**sales** is pretty much scattered all over the graph. Ther aren't any outliers. Strength of data is weak as data aren't very close to eachother.\n"
   ]
  },
  {
   "cell_type": "code",
   "execution_count": 12,
   "id": "50b1dcac",
   "metadata": {},
   "outputs": [
    {
     "name": "stdout",
     "output_type": "stream",
     "text": [
      "Sales        1.000000\n",
      "TV           0.941232\n",
      "Newspaper    0.182284\n",
      "Radio        0.161986\n",
      "Name: Sales, dtype: float64 \n",
      "\n"
     ]
    }
   ],
   "source": [
    "correlation = dataset.corr()\n",
    "print(correlation['Sales'].sort_values(ascending=False),'\\n')"
   ]
  },
  {
   "cell_type": "markdown",
   "id": "4e078fe7",
   "metadata": {},
   "source": [
    "From the above I have used the corr() function to get the correlation of data with sales and we can clearly see that **TV is highly correlated with Sales as compared to Newspaper and Radio**"
   ]
  },
  {
   "cell_type": "code",
   "execution_count": 13,
   "id": "04fbb5bb",
   "metadata": {},
   "outputs": [
    {
     "data": {
      "image/png": "[encoded data removed]",
      "text/plain": [
       "<Figure size 432x288 with 2 Axes>"
      ]
     },
     "metadata": {
      "needs_background": "light"
     },
     "output_type": "display_data"
    }
   ],
   "source": [
    "sns.heatmap(dataset.corr(), cmap=\"YlGnBu\", annot = True)\n",
    "plt.show()"
   ]
  },
  {
   "cell_type": "markdown",
   "id": "4a703473",
   "metadata": {},
   "source": [
    "The correlationlies between 0.0 and 1.0. **+** sign represents positive correlation and **-** sign represents negative correlations\n",
    "\n",
    "**-1.0** represents perfect negative coorelation and **+1.0** represents perfect positive correlation\n",
    "\n",
    "The thin bar on the right represents the correlation with sales. Upper colors means good correlation and lower colors mean a bad correlation\n",
    "\n",
    "The 1 on the diagonal mean data are highly correlated with themselves, not others, so the diagonal part has deepblue color with correlation 1\n",
    "\n",
    "We can clearly see from the heat map that **TV** has the highest correlation **(0.94)** with blue color in it, **Radio** and **Newspaper** have low correlation with **sales** **(0.16 & 0.18 respectively)**  as we can see fading green color in them in the heat map."
   ]
  },
  {
   "cell_type": "markdown",
   "id": "e5648c50",
   "metadata": {},
   "source": [
    "# Data cleaning\n"
   ]
  },
  {
   "cell_type": "code",
   "execution_count": 14,
   "id": "00518044",
   "metadata": {},
   "outputs": [
    {
     "data": {
      "text/plain": [
       "TV           0.0\n",
       "Radio        0.0\n",
       "Newspaper    0.0\n",
       "Sales        0.0\n",
       "dtype: float64"
      ]
     },
     "execution_count": 14,
     "metadata": {},
     "output_type": "execute_result"
    }
   ],
   "source": [
    "# Checking Null values\n",
    "dataset.isnull().sum()*100/dataset.shape[0]\n"
   ]
  },
  {
   "cell_type": "markdown",
   "id": "2e390dd9",
   "metadata": {},
   "source": [
    "As previously said there are no null values in our dataset, hence it is clean."
   ]
  },
  {
   "cell_type": "markdown",
   "id": "0a11c0d9",
   "metadata": {},
   "source": [
    "# remove the outliers"
   ]
  },
  {
   "cell_type": "code",
   "execution_count": 15,
   "id": "c6ff1bff",
   "metadata": {},
   "outputs": [
    {
     "data": {
      "text/html": [
       "<div>\n",
       "<style scoped>\n",
       "    .dataframe tbody tr th:only-of-type {\n",
       "        vertical-align: middle;\n",
       "    }\n",
       "\n",
       "    .dataframe tbody tr th {\n",
       "        vertical-align: top;\n",
       "    }\n",
       "\n",
       "    .dataframe thead th {\n",
       "        text-align: right;\n",
       "    }\n",
       "</style>\n",
       "<table border=\"1\" class=\"dataframe\">\n",
       "  <thead>\n",
       "    <tr style=\"text-align: right;\">\n",
       "      <th></th>\n",
       "      <th>TV</th>\n",
       "      <th>Radio</th>\n",
       "      <th>Newspaper</th>\n",
       "      <th>Sales</th>\n",
       "    </tr>\n",
       "  </thead>\n",
       "  <tbody>\n",
       "    <tr>\n",
       "      <th>16</th>\n",
       "      <td>67.8</td>\n",
       "      <td>36.6</td>\n",
       "      <td>114.0</td>\n",
       "      <td>12.5</td>\n",
       "    </tr>\n",
       "    <tr>\n",
       "      <th>101</th>\n",
       "      <td>296.4</td>\n",
       "      <td>36.3</td>\n",
       "      <td>100.9</td>\n",
       "      <td>23.8</td>\n",
       "    </tr>\n",
       "  </tbody>\n",
       "</table>\n",
       "</div>"
      ],
      "text/plain": [
       "        TV  Radio  Newspaper  Sales\n",
       "16    67.8   36.6      114.0   12.5\n",
       "101  296.4   36.3      100.9   23.8"
      ]
     },
     "execution_count": 15,
     "metadata": {},
     "output_type": "execute_result"
    }
   ],
   "source": [
    "dataset[dataset['Newspaper']>90]"
   ]
  },
  {
   "cell_type": "code",
   "execution_count": 16,
   "id": "cd9a0b67",
   "metadata": {},
   "outputs": [],
   "source": [
    "dataset=dataset[dataset['Newspaper']<90].reset_index(drop=True)"
   ]
  },
  {
   "cell_type": "code",
   "execution_count": 17,
   "id": "1116cbd7",
   "metadata": {},
   "outputs": [
    {
     "data": {
      "text/plain": [
       "(608, 4)"
      ]
     },
     "execution_count": 17,
     "metadata": {},
     "output_type": "execute_result"
    }
   ],
   "source": [
    "dataset.shape"
   ]
  },
  {
   "cell_type": "markdown",
   "id": "8edc136e",
   "metadata": {},
   "source": [
    "Hence two rows have been removed so there are 4 columns and 608 rows"
   ]
  },
  {
   "cell_type": "code",
   "execution_count": 18,
   "id": "d371510b",
   "metadata": {},
   "outputs": [
    {
     "data": {
      "image/png": "[encoded data removed]",
      "text/plain": [
       "<Figure size 432x288 with 1 Axes>"
      ]
     },
     "metadata": {
      "needs_background": "light"
     },
     "output_type": "display_data"
    }
   ],
   "source": [
    "sns.boxplot(dataset['Newspaper'])\n",
    "plt.show()"
   ]
  },
  {
   "cell_type": "markdown",
   "id": "9c9c0a36",
   "metadata": {},
   "source": [
    "We have cleaned the outlier previously present in our independent variable Newspaper. Hence data cleaning is performed since i don't have any categorical data and the data is already polished no need to drop any columns or convert categorical data to numeric.\n",
    "\n",
    "**Minimum = 0  Quartile 1 = 15 (approx)  Median = 30 (approx)  Quartile 3 = 45(approx)  Maximum = 90**"
   ]
  },
  {
   "cell_type": "markdown",
   "id": "74398f8a",
   "metadata": {},
   "source": [
    "# Model Building\n",
    "\n",
    "Performing Simple Linear Regression\n",
    "\n",
    "Equation of linear regression\n",
    "y=c+m1x1+m2x2+...+mnxn \n",
    "\n",
    "y  is the response\n",
    "c  is the intercept\n",
    "m1  is the coefficient for the first feature\n",
    "mn  is the coefficient for the nth feature\n",
    "\n",
    "In our case:\n",
    "\n",
    "y= c+m1×TV + m2xNewpaper + m3xRadio \n",
    "\n",
    "The  m  values are called the model coefficients or model parameters.\n",
    "\n",
    "**Generic Steps in model building using statsmodels**\n",
    "\n",
    "We first assign the feature variables, TV, Newspaper, Radio in this case, to the variable X and the response variable, Sales, to the variable y."
   ]
  },
  {
   "cell_type": "code",
   "execution_count": 19,
   "id": "0a6d2067",
   "metadata": {},
   "outputs": [],
   "source": [
    "X = dataset.drop(columns='Sales')    # we don't need the target column in X\n",
    "y = dataset['Sales']                 # only target column in x"
   ]
  },
  {
   "cell_type": "code",
   "execution_count": 20,
   "id": "f43b9b35",
   "metadata": {},
   "outputs": [
    {
     "name": "stdout",
     "output_type": "stream",
     "text": [
      "        TV  Radio  Newspaper\n",
      "0    230.1   37.8       69.2\n",
      "1     44.5   39.3       45.1\n",
      "2     17.2   45.9       69.3\n",
      "3    151.5   41.3       58.5\n",
      "4    180.8   10.8       58.4\n",
      "..     ...    ...        ...\n",
      "603  244.3   49.2       32.2\n",
      "604  118.9   36.6       29.0\n",
      "605  243.7   21.5       42.9\n",
      "606  172.5   29.5       51.1\n",
      "607  214.1   16.4       25.1\n",
      "\n",
      "[608 rows x 3 columns]\n",
      "length of x is:  608\n"
     ]
    }
   ],
   "source": [
    "print(X)\n",
    "print(\"length of x is: \",len(X))"
   ]
  },
  {
   "cell_type": "code",
   "execution_count": 21,
   "id": "a83970d2",
   "metadata": {},
   "outputs": [
    {
     "name": "stdout",
     "output_type": "stream",
     "text": [
      "0      22.1\n",
      "1      10.4\n",
      "2      12.0\n",
      "3      16.5\n",
      "4      17.9\n",
      "       ... \n",
      "603    24.0\n",
      "604    13.6\n",
      "605    22.7\n",
      "606    18.7\n",
      "607    18.9\n",
      "Name: Sales, Length: 608, dtype: float64\n",
      "length of x is:  608\n"
     ]
    }
   ],
   "source": [
    "print(y)\n",
    "print(\"length of x is: \",len(y))"
   ]
  },
  {
   "cell_type": "markdown",
   "id": "e39d927b",
   "metadata": {},
   "source": [
    "# Split the dataset in train set and test set\n",
    "\n",
    "\n",
    "We now need to split our variable into training and testing sets. we'll perform this by importing train_test_split from the sklearn.model_selection library. 70% of the dataset is in train dataset and rest 30% is in test dataset"
   ]
  },
  {
   "cell_type": "code",
   "execution_count": 22,
   "id": "9716c444",
   "metadata": {},
   "outputs": [],
   "source": [
    "from sklearn.model_selection import train_test_split\n",
    "X_train, X_test, y_train, y_test = train_test_split(X, y, train_size = 0.7, test_size = 0.3, random_state = 100) "
   ]
  },
  {
   "cell_type": "code",
   "execution_count": 23,
   "id": "412de842",
   "metadata": {},
   "outputs": [
    {
     "data": {
      "text/html": [
       "<div>\n",
       "<style scoped>\n",
       "    .dataframe tbody tr th:only-of-type {\n",
       "        vertical-align: middle;\n",
       "    }\n",
       "\n",
       "    .dataframe tbody tr th {\n",
       "        vertical-align: top;\n",
       "    }\n",
       "\n",
       "    .dataframe thead th {\n",
       "        text-align: right;\n",
       "    }\n",
       "</style>\n",
       "<table border=\"1\" class=\"dataframe\">\n",
       "  <thead>\n",
       "    <tr style=\"text-align: right;\">\n",
       "      <th></th>\n",
       "      <th>TV</th>\n",
       "      <th>Radio</th>\n",
       "      <th>Newspaper</th>\n",
       "    </tr>\n",
       "  </thead>\n",
       "  <tbody>\n",
       "    <tr>\n",
       "      <th>199</th>\n",
       "      <td>241.2</td>\n",
       "      <td>30.4</td>\n",
       "      <td>28.5</td>\n",
       "    </tr>\n",
       "    <tr>\n",
       "      <th>90</th>\n",
       "      <td>28.6</td>\n",
       "      <td>1.5</td>\n",
       "      <td>33.0</td>\n",
       "    </tr>\n",
       "    <tr>\n",
       "      <th>481</th>\n",
       "      <td>217.1</td>\n",
       "      <td>43.1</td>\n",
       "      <td>23.1</td>\n",
       "    </tr>\n",
       "    <tr>\n",
       "      <th>260</th>\n",
       "      <td>180.9</td>\n",
       "      <td>26.5</td>\n",
       "      <td>6.2</td>\n",
       "    </tr>\n",
       "    <tr>\n",
       "      <th>593</th>\n",
       "      <td>133.4</td>\n",
       "      <td>16.8</td>\n",
       "      <td>6.0</td>\n",
       "    </tr>\n",
       "  </tbody>\n",
       "</table>\n",
       "</div>"
      ],
      "text/plain": [
       "        TV  Radio  Newspaper\n",
       "199  241.2   30.4       28.5\n",
       "90    28.6    1.5       33.0\n",
       "481  217.1   43.1       23.1\n",
       "260  180.9   26.5        6.2\n",
       "593  133.4   16.8        6.0"
      ]
     },
     "execution_count": 23,
     "metadata": {},
     "output_type": "execute_result"
    }
   ],
   "source": [
    "X_train.head()"
   ]
  },
  {
   "cell_type": "code",
   "execution_count": 24,
   "id": "04fb7d5e",
   "metadata": {},
   "outputs": [
    {
     "data": {
      "text/plain": [
       "199    22.1\n",
       "90      7.3\n",
       "481    20.9\n",
       "260    15.8\n",
       "593    11.5\n",
       "Name: Sales, dtype: float64"
      ]
     },
     "execution_count": 24,
     "metadata": {},
     "output_type": "execute_result"
    }
   ],
   "source": [
    "y_train.head()"
   ]
  },
  {
   "cell_type": "markdown",
   "id": "2b5ce390",
   "metadata": {},
   "source": [
    "**Importing the linear regression from sklearn r2_score and OneHotEncoder**\n",
    "\n"
   ]
  },
  {
   "cell_type": "code",
   "execution_count": 25,
   "id": "597e1c81",
   "metadata": {},
   "outputs": [],
   "source": [
    "import math\n",
    "from sklearn.preprocessing import MinMaxScaler\n",
    "from sklearn.linear_model import LinearRegression\n",
    "from sklearn.model_selection import train_test_split\n",
    "from sklearn.metrics import r2_score\n",
    "from sklearn.metrics import mean_squared_error\n"
   ]
  },
  {
   "cell_type": "code",
   "execution_count": 26,
   "id": "f9de0b97",
   "metadata": {},
   "outputs": [],
   "source": [
    "scaler = MinMaxScaler()\n",
    "X_train = scaler.fit_transform(X_train)\n",
    "X_test = scaler.transform(X_test)"
   ]
  },
  {
   "cell_type": "markdown",
   "id": "fdac1341",
   "metadata": {},
   "source": [
    "# Train the model on the training set"
   ]
  },
  {
   "cell_type": "code",
   "execution_count": 27,
   "id": "e4cc80e4",
   "metadata": {},
   "outputs": [
    {
     "data": {
      "text/plain": [
       "LinearRegression()"
      ]
     },
     "execution_count": 27,
     "metadata": {},
     "output_type": "execute_result"
    }
   ],
   "source": [
    "lr = LinearRegression()\n",
    "lr.fit(X_train,y_train)"
   ]
  },
  {
   "cell_type": "markdown",
   "id": "d52a9215",
   "metadata": {},
   "source": [
    "# Predict the test results"
   ]
  },
  {
   "cell_type": "code",
   "execution_count": 28,
   "id": "3c3dc62b",
   "metadata": {},
   "outputs": [],
   "source": [
    "y_pred = lr.predict(X_test)  # storing the prediction in y_pred"
   ]
  },
  {
   "cell_type": "code",
   "execution_count": 29,
   "id": "797bff0f",
   "metadata": {},
   "outputs": [
    {
     "name": "stdout",
     "output_type": "stream",
     "text": [
      "Mean Squared errror :  1.6408314650527476\n",
      "Root Mean Squared errror :  1.2809494389134755\n"
     ]
    }
   ],
   "source": [
    "print(\"Mean Squared errror : \",mean_squared_error(y_test,y_pred))\n",
    "print(\"Root Mean Squared errror : \",math.sqrt(mean_squared_error(y_test,y_pred)))"
   ]
  },
  {
   "cell_type": "markdown",
   "id": "85a247e4",
   "metadata": {},
   "source": [
    "**Mean Squared Error (MSE)**\n",
    "\n",
    "In own word, it is the square of difference of vertical distance of point to the linear regression line.\n",
    " \n",
    "Let's suppose the line is **y=mx+c;   m=slope and c=y-intercept**\n",
    "\n",
    "one point is **(X1, Y1)** which is not on the linear regression line or the best fit line\n",
    "\n",
    "our distance will be **(Y1-(mX1+c))** i.e actual vs predicted\n",
    "\n",
    "**Mean squared error (MSE) =** **(summation of all (actual-predicted)^2)/(total number of points)**\n",
    "\n",
    "\n",
    "**MSE** is similar to **variance**\n",
    "\n",
    "**RMSE** is similar to **standard deviation**\n",
    "\n",
    "\n",
    "Above we are taking out the square root of the mean squared value of our difference between acutal value of y and predicted value of y"
   ]
  },
  {
   "cell_type": "markdown",
   "id": "48422b9a",
   "metadata": {},
   "source": [
    "# Evaluate the model"
   ]
  },
  {
   "cell_type": "code",
   "execution_count": 30,
   "id": "778ed9a7",
   "metadata": {},
   "outputs": [
    {
     "data": {
      "text/plain": [
       "0.950596454464288"
      ]
     },
     "execution_count": 30,
     "metadata": {},
     "output_type": "execute_result"
    }
   ],
   "source": [
    "r2_score(y_test,y_pred)    # can be used lr.score(X_test,y_test) as well"
   ]
  },
  {
   "cell_type": "markdown",
   "id": "01a3819d",
   "metadata": {},
   "source": [
    "The performance of our regression model is very good as the value of our r square is close to 1 i.e. 0.95\n",
    "\n",
    "However we don't know whether is our model is biased or not but we can see that the data points will be very close to our best fit line which is good."
   ]
  },
  {
   "cell_type": "markdown",
   "id": "e279d048",
   "metadata": {},
   "source": [
    "# Distribution of the error terms\n",
    "\n",
    "We need to check if the error terms are also normally distributed (which is infact, one of the major assumptions of linear regression), let us plot the histogram of the error terms and see what it looks like."
   ]
  },
  {
   "cell_type": "code",
   "execution_count": 31,
   "id": "651ca412",
   "metadata": {},
   "outputs": [],
   "source": [
    "res = y_test-y_pred"
   ]
  },
  {
   "cell_type": "code",
   "execution_count": 32,
   "id": "98cf44ce",
   "metadata": {},
   "outputs": [
    {
     "data": {
      "image/png": "[encoded data removed]",
      "text/plain": [
       "<Figure size 432x288 with 1 Axes>"
      ]
     },
     "metadata": {
      "needs_background": "light"
     },
     "output_type": "display_data"
    }
   ],
   "source": [
    "fig = plt.figure()\n",
    "sns.distplot(res, bins = 15)\n",
    "fig.suptitle('Error Terms', fontsize = 15)           # Plot heading \n",
    "plt.xlabel('y_test - y_pred', fontsize = 15)         # X-label\n",
    "plt.show()"
   ]
  },
  {
   "cell_type": "markdown",
   "id": "3ee21adb",
   "metadata": {},
   "source": [
    "The residuals are following the normally distributed with a mean 0. All good!"
   ]
  },
  {
   "cell_type": "markdown",
   "id": "b14621ab",
   "metadata": {},
   "source": [
    "# plot the results"
   ]
  },
  {
   "cell_type": "code",
   "execution_count": 33,
   "id": "97ad3e42",
   "metadata": {},
   "outputs": [
    {
     "data": {
      "text/plain": [
       "Text(0.5, 1.0, 'Actual Vs Predicted')"
      ]
     },
     "execution_count": 33,
     "metadata": {},
     "output_type": "execute_result"
    },
    {
     "data": {
      "image/png": "[encoded data removed]",
      "text/plain": [
       "<Figure size 720x360 with 1 Axes>"
      ]
     },
     "metadata": {
      "needs_background": "light"
     },
     "output_type": "display_data"
    }
   ],
   "source": [
    "plt.figure(figsize=(10,5))\n",
    "plt.scatter(y_test,y_pred)\n",
    "plt.xlabel('Actual', fontsize=25)\n",
    "plt.ylabel('Predicted',fontsize=25)\n",
    "plt.title('Actual Vs Predicted', fontsize=25)"
   ]
  },
  {
   "cell_type": "markdown",
   "id": "bf9774af",
   "metadata": {},
   "source": [
    "Since the scatter plot is linear our model is good."
   ]
  },
  {
   "cell_type": "code",
   "execution_count": null,
   "id": "7f04335e",
   "metadata": {},
   "outputs": [],
   "source": []
  }
 ],
 "metadata": {
  "kernelspec": {
   "display_name": "Python 3",
   "language": "python",
   "name": "python3"
  },
  "language_info": {
   "codemirror_mode": {
    "name": "ipython",
    "version": 3
   },
   "file_extension": ".py",
   "mimetype": "text/x-python",
   "name": "python",
   "nbconvert_exporter": "python",
   "pygments_lexer": "ipython3",
   "version": "3.8.8"
  }
 },
 "nbformat": 4,
 "nbformat_minor": 5
}
